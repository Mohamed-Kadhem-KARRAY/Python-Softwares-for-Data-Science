{
 "cells": [
  {
   "cell_type": "markdown",
   "id": "a268d0c0",
   "metadata": {},
   "source": [
    "# Rapid tutorial on Python\n",
    "### Author : Mohamed Kadhem KARRAY \n",
    "\n",
    "- Website: https://mohamedkadhem.com\n",
    "- Youtube: https://www.youtube.com/@mohamedkadhemkarray2504\n",
    "- LinkedIn: https://www.linkedin.com/in/mohamed-kadhem-karray-b21895b\n",
    "\n",
    "Date: 2023 September 19th\n",
    "\n",
    "### Content\n",
    "- This is a rapid tutorial on Python [1].\n",
    "- For more details, see e.g. the book [2].\n",
    "\n",
    "References:\n",
    "\n",
    "[1] S. Korokithakis, \"Tutorial - Learn Python in 10 minutes,\n",
    "https://www.stavros.io/tutorials/python.\n",
    "\n",
    "[2] M. Pilgrim (2009), \"Dive into Python 3\", https://diveintopython3.problemsolving.io."
   ]
  },
  {
   "cell_type": "markdown",
   "id": "e9168531",
   "metadata": {},
   "source": [
    "# Basics"
   ]
  },
  {
   "cell_type": "markdown",
   "id": "9f252a71",
   "metadata": {},
   "source": [
    "Python is:\n",
    "- implicitly typed (i.e. you don’t have to declare variables);\n",
    "- case sensitive (i.e. x and X are two different variables);\n",
    "- and object-oriented (i.e. everything is an object)."
   ]
  },
  {
   "cell_type": "markdown",
   "id": "c2d80a00",
   "metadata": {},
   "source": [
    "# Getting help"
   ]
  },
  {
   "cell_type": "markdown",
   "id": "e29af9c2",
   "metadata": {},
   "source": [
    "- If you want get help about an object, write help(object):"
   ]
  },
  {
   "cell_type": "code",
   "execution_count": 2,
   "id": "703f9f1d",
   "metadata": {},
   "outputs": [
    {
     "name": "stdout",
     "output_type": "stream",
     "text": [
      "Help on built-in function min in module builtins:\n",
      "\n",
      "min(...)\n",
      "    min(iterable, *[, default=obj, key=func]) -> value\n",
      "    min(arg1, arg2, *args, *[, key=func]) -> value\n",
      "    \n",
      "    With a single iterable argument, return its smallest item. The\n",
      "    default keyword-only argument specifies an object to return if\n",
      "    the provided iterable is empty.\n",
      "    With two or more arguments, return the smallest argument.\n",
      "\n"
     ]
    }
   ],
   "source": [
    "help(min)"
   ]
  },
  {
   "cell_type": "markdown",
   "id": "1965e059",
   "metadata": {},
   "source": [
    "- To list all methods (i.e. functions) associated to an object, write dir(object)."
   ]
  },
  {
   "cell_type": "code",
   "execution_count": 3,
   "id": "2f540085",
   "metadata": {
    "scrolled": true
   },
   "outputs": [
    {
     "data": {
      "text/plain": [
       "['__abs__',\n",
       " '__add__',\n",
       " '__bool__',\n",
       " '__ceil__',\n",
       " '__class__',\n",
       " '__delattr__',\n",
       " '__dir__',\n",
       " '__divmod__',\n",
       " '__doc__',\n",
       " '__eq__',\n",
       " '__float__',\n",
       " '__floor__',\n",
       " '__floordiv__',\n",
       " '__format__',\n",
       " '__ge__',\n",
       " '__getattribute__',\n",
       " '__getformat__',\n",
       " '__getnewargs__',\n",
       " '__getstate__',\n",
       " '__gt__',\n",
       " '__hash__',\n",
       " '__init__',\n",
       " '__init_subclass__',\n",
       " '__int__',\n",
       " '__le__',\n",
       " '__lt__',\n",
       " '__mod__',\n",
       " '__mul__',\n",
       " '__ne__',\n",
       " '__neg__',\n",
       " '__new__',\n",
       " '__pos__',\n",
       " '__pow__',\n",
       " '__radd__',\n",
       " '__rdivmod__',\n",
       " '__reduce__',\n",
       " '__reduce_ex__',\n",
       " '__repr__',\n",
       " '__rfloordiv__',\n",
       " '__rmod__',\n",
       " '__rmul__',\n",
       " '__round__',\n",
       " '__rpow__',\n",
       " '__rsub__',\n",
       " '__rtruediv__',\n",
       " '__setattr__',\n",
       " '__sizeof__',\n",
       " '__str__',\n",
       " '__sub__',\n",
       " '__subclasshook__',\n",
       " '__truediv__',\n",
       " '__trunc__',\n",
       " 'as_integer_ratio',\n",
       " 'conjugate',\n",
       " 'fromhex',\n",
       " 'hex',\n",
       " 'imag',\n",
       " 'is_integer',\n",
       " 'real']"
      ]
     },
     "execution_count": 3,
     "metadata": {},
     "output_type": "execute_result"
    }
   ],
   "source": [
    "x=5.01\n",
    "dir(x)"
   ]
  },
  {
   "cell_type": "markdown",
   "id": "67832f2f",
   "metadata": {},
   "source": [
    "- Note that some methods require specific packages (i.e. librarties). "
   ]
  },
  {
   "cell_type": "code",
   "execution_count": 13,
   "id": "b5122100",
   "metadata": {},
   "outputs": [
    {
     "name": "stdout",
     "output_type": "stream",
     "text": [
      "abs(x)= 5.01\n",
      "floor(x)= 5\n"
     ]
    }
   ],
   "source": [
    "print(\"abs(x)=\",abs(x))\n",
    "# The foor() method requires the package \"math\", which should be imported firstly\n",
    "import math\n",
    "print(\"floor(x)=\",math.floor(x))"
   ]
  },
  {
   "cell_type": "markdown",
   "id": "36019099",
   "metadata": {},
   "source": [
    "# Syntax"
   ]
  },
  {
   "cell_type": "markdown",
   "id": "ee7fb531",
   "metadata": {},
   "source": [
    "- Python has no mandatory statement termination character. \n",
    "- Values are assigned with the equals sign (“=”). \n",
    "- You can increment/decrement values using the += and -= operators respectively by the right-hand amount. This works on many datatypes, strings included."
   ]
  },
  {
   "cell_type": "code",
   "execution_count": 14,
   "id": "22cca0e5",
   "metadata": {},
   "outputs": [
    {
     "name": "stdout",
     "output_type": "stream",
     "text": [
      "myvar= 5\n"
     ]
    }
   ],
   "source": [
    "myvar=3\n",
    "myvar+=2\n",
    "print(\"myvar=\",myvar)"
   ]
  },
  {
   "cell_type": "markdown",
   "id": "24109f60",
   "metadata": {},
   "source": [
    "- Comments start with (#) sign and are single-line. Multi-line comments are between (\"\"\"...\"\"\"). "
   ]
  },
  {
   "cell_type": "code",
   "execution_count": 15,
   "id": "5d9d62cd",
   "metadata": {},
   "outputs": [
    {
     "name": "stdout",
     "output_type": "stream",
     "text": [
      "mystring= Hello world.\n"
     ]
    }
   ],
   "source": [
    "# We can concatenate two strings with the += operator\n",
    "\"\"\" The following lines \n",
    "concatenates two strings\"\"\"\n",
    "mystring=\"Hello\"\n",
    "mystring+=\" world.\"\n",
    "print(\"mystring=\",mystring)"
   ]
  },
  {
   "cell_type": "markdown",
   "id": "9a19d892",
   "metadata": {},
   "source": [
    "- We shall swap two strings in one line"
   ]
  },
  {
   "cell_type": "code",
   "execution_count": 17,
   "id": "4cf1532c",
   "metadata": {},
   "outputs": [
    {
     "name": "stdout",
     "output_type": "stream",
     "text": [
      "myvar= Hello world.\n",
      "mystring= 5\n",
      "myvar (after swap)= 5\n",
      "mystring (after swap)= Hello world.\n"
     ]
    }
   ],
   "source": [
    "print(\"myvar=\",myvar)\n",
    "print(\"mystring=\",mystring)\n",
    "# Swap the above two strings\n",
    "myvar,mystring=mystring,myvar\n",
    "# Print values after the swap\n",
    "print(\"myvar (after swap)=\",myvar)\n",
    "print(\"mystring (after swap)=\",mystring)"
   ]
  },
  {
   "cell_type": "markdown",
   "id": "7669f536",
   "metadata": {},
   "source": [
    "- Equality testing is done using two equal signs (“==”).\n",
    "- Some statements end with a colon (:); e.g. the if statement.\n",
    "- Blocks are specified by indentation. Indent to begin a block, dedent to end one."
   ]
  },
  {
   "cell_type": "code",
   "execution_count": 19,
   "id": "5023bc2b",
   "metadata": {},
   "outputs": [
    {
     "name": "stdout",
     "output_type": "stream",
     "text": [
      "x equals 2\n",
      "The test is true\n",
      "Bye\n"
     ]
    }
   ],
   "source": [
    "x=2\n",
    "if x==2:\n",
    "  print(\"x equals 2\")\n",
    "  print(\"The test is true\")\n",
    "else:\n",
    "  print(\"x is not equal to 2\")\n",
    "print(\"Bye\")"
   ]
  },
  {
   "cell_type": "markdown",
   "id": "72e87226",
   "metadata": {},
   "source": [
    "# Data types"
   ]
  },
  {
   "cell_type": "markdown",
   "id": "3e8ec100",
   "metadata": {},
   "source": [
    "- The data structures available in python are lists, tuples and dictionaries:\n",
    "  - lists are like one-dimensional arrays (but you can also have lists of other lists);\n",
    "  - tuples are immutable one-dimensional arrays (Main difference with lists: Particular elements of a tuple cannot be reassigned);\n",
    "  - dictionaries are arrays with keys.\n",
    "   \n",
    "- Python “arrays” can be of any type, so you can mix e.g. integers, strings, etc in lists/dictionaries/tuples. \n",
    "- The index of the first item in all array types is 0. \n",
    "    - Negative numbers count from the end towards the beginning.\n",
    "    - (-1) is the last item. "
   ]
  },
  {
   "cell_type": "code",
   "execution_count": 14,
   "id": "18d8ab53",
   "metadata": {},
   "outputs": [
    {
     "name": "stdout",
     "output_type": "stream",
     "text": [
      "lis= ['List item 1 again', -6, 79]\n",
      "tup[-2]= 4\n",
      "tup[-1]= Hello\n",
      "lis1[2]= ('a', 'tuple')\n",
      "dic= {'Key 1': 'Value 1', 6: 'Value 2', 'pi': 3.15, 'New key': -10}\n"
     ]
    }
   ],
   "source": [
    "# lists\n",
    "# Particular elements of a list can be reassigned\n",
    "lis=[\"List item 1\",-6,3.14]\n",
    "lis[0]=\"List item 1 again\" # We're changing the item\n",
    "lis[-1]=79 # Here, we refer to the last item\n",
    "print(\"lis=\",lis)\n",
    "\n",
    "# tuples\n",
    "# Main difference with lists: Particular elements of a tuple cannot be reassigned\n",
    "tup=(7,-1,4,\"Hello\")\n",
    "print(\"tup[-2]=\",tup[-2]) \n",
    "print(\"tup[-1]=\",tup[-1]) \n",
    "\n",
    "# list including another list and tuple\n",
    "lis1=[4,[\"another\", \"list\"],(\"a\", \"tuple\")] # list\n",
    "print(\"lis1[2]=\",lis1[2])\n",
    "\n",
    "# dictionaries\n",
    "dic ={\"Key 1\":\"Value 1\",6:\"Value 2\",\"pi\":3.14}\n",
    "dic[\"pi\"]=3.15 # This is how you change dictionary values\n",
    "dic[\"New key\"]=-10 # This is how you add a new key\n",
    "print(\"dic=\",dic)\n"
   ]
  },
  {
   "cell_type": "markdown",
   "id": "eafee985",
   "metadata": {},
   "source": [
    "- functions can be renamed."
   ]
  },
  {
   "cell_type": "code",
   "execution_count": 5,
   "id": "281671b4",
   "metadata": {},
   "outputs": [
    {
     "name": "stdout",
     "output_type": "stream",
     "text": [
      "fun(lis)= 3\n"
     ]
    }
   ],
   "source": [
    "\n",
    "# len() is a function giving the length of a list\n",
    "lis= [2, -6, 7]\n",
    "fun=len\n",
    "print(\"fun(lis)=\",fun(lis))"
   ]
  },
  {
   "cell_type": "markdown",
   "id": "381d5f31",
   "metadata": {},
   "source": [
    "- You can access array ranges using a colon (:). \n",
    "  - Specifying x[i:j] will return items x[i] to x[j-1]. \n",
    "  - Leaving the start index empty assumes the first item, leaving the end index assumes the last item. \n",
    "  - Negative indexes count from the last item backwards (thus -1 is the last item)."
   ]
  },
  {
   "cell_type": "code",
   "execution_count": 9,
   "id": "ea004a83",
   "metadata": {},
   "outputs": [
    {
     "name": "stdout",
     "output_type": "stream",
     "text": [
      "['L0', 2, 3]\n",
      "['L0', 2]\n",
      "['L0', 2]\n",
      "[2, 3]\n"
     ]
    }
   ],
   "source": [
    "mylist=[\"L0\",2,3]\n",
    "print(mylist[:])\n",
    "print(mylist[0:2])\n",
    "print(mylist[-3:-1])\n",
    "print(mylist[1:])"
   ]
  },
  {
   "cell_type": "markdown",
   "id": "11176edc",
   "metadata": {},
   "source": [
    "- Adding a third parameter, x[i:j:N] will have Python step in N item increments, rather than 1."
   ]
  },
  {
   "cell_type": "code",
   "execution_count": 10,
   "id": "ac41f06c",
   "metadata": {},
   "outputs": [
    {
     "name": "stdout",
     "output_type": "stream",
     "text": [
      "(1, 3, 5)\n"
     ]
    }
   ],
   "source": [
    "x=(0,1,2,3,4,5,6,7,8,9,10)\n",
    "print(x[1:7:2])"
   ]
  },
  {
   "cell_type": "markdown",
   "id": "853b2f72",
   "metadata": {},
   "source": [
    "- You can use del to delete variables or items in arrays."
   ]
  },
  {
   "cell_type": "code",
   "execution_count": 15,
   "id": "7c55c5b9",
   "metadata": {},
   "outputs": [
    {
     "name": "stdout",
     "output_type": "stream",
     "text": [
      "[2, 3]\n"
     ]
    }
   ],
   "source": [
    "lst1=[1,2,3]\n",
    "del(lst1[0])\n",
    "print(lst1)\n",
    "del(lst1)"
   ]
  },
  {
   "cell_type": "markdown",
   "id": "ebb4cb93",
   "metadata": {},
   "source": [
    "- Sets are available in the sets library (but are built-in in Python 2.5 and later). "
   ]
  },
  {
   "cell_type": "code",
   "execution_count": 34,
   "id": "5b54fbfa",
   "metadata": {},
   "outputs": [
    {
     "name": "stdout",
     "output_type": "stream",
     "text": [
      "{'apple', 'cherry', 'banana'}\n",
      "3\n",
      "{True, 34, 40, 'abc', 'male'}\n",
      "{-6, 3.14, 7}\n"
     ]
    }
   ],
   "source": [
    "set0 = {\"apple\", \"banana\", \"cherry\"}\n",
    "print(set0)\n",
    "print(len(set0))\n",
    "# A set can mix strings, integers and boolean\n",
    "set1 = {\"abc\", 34, True, 40, \"male\"}\n",
    "print(set1)\n",
    "# Using the set() constructor to make a set:\n",
    "set2 = set((-6, 3.14, 7)) # note the double round-brackets\n",
    "print(set2)"
   ]
  },
  {
   "cell_type": "markdown",
   "id": "7c46a64f",
   "metadata": {},
   "source": [
    "# Strings"
   ]
  },
  {
   "cell_type": "markdown",
   "id": "d02320c5",
   "metadata": {},
   "source": [
    "- Strings can use either single or double quotation marks. \n",
    "- You can have quotation marks of one kind inside a string that uses the other kind (i.e. \"He said ’hello’.\" is valid). \n",
    "- Multiline strings are enclosed in triple single (or double) quotes (\"\"\")."
   ]
  },
  {
   "cell_type": "code",
   "execution_count": 19,
   "id": "1b862609",
   "metadata": {},
   "outputs": [
    {
     "name": "stdout",
     "output_type": "stream",
     "text": [
      "He said ’hello’.\n",
      "This is\n",
      "a multiline\n",
      "string.\n"
     ]
    }
   ],
   "source": [
    "print(\"He said ’hello’.\");\n",
    "multStr = '''This is\n",
    "a multiline\n",
    "string.'''\n",
    "print(multStr)"
   ]
  },
  {
   "cell_type": "markdown",
   "id": "570dd9ba",
   "metadata": {},
   "source": [
    "- To fill a string with values, you use the (%s) operator and a tuple. \n",
    "- Each %s gets replaced with an item from the tuple, left to right.\n",
    "- You can also use dictionary substitutions."
   ]
  },
  {
   "cell_type": "code",
   "execution_count": 23,
   "id": "17fde5bb",
   "metadata": {},
   "outputs": [
    {
     "name": "stdout",
     "output_type": "stream",
     "text": [
      "This is a 1st test: pi=3.14.\n",
      "This is a 2nd test: pi=3.14.\n"
     ]
    }
   ],
   "source": [
    "print(\"This %s a %sst test: pi=%s.\" % (\"is\",1,3.14))\n",
    "# We shall use dictionary substitutions\n",
    "# Observe the trailing s in \"%(key)s\"\n",
    "print(\"This %(key1)s a %(key2)snd test: pi=%(key3)s.\" % {\"key3\": 3.14, \"key2\": 2, \"key1\": \"is\"}) "
   ]
  },
  {
   "cell_type": "markdown",
   "id": "d9b3aee0",
   "metadata": {},
   "source": [
    "- There are two types of strings\n",
    "  - unicode type: usual strings,\n",
    "  - bytestrings type: are represented with the b prefix, and need to be decoded. "
   ]
  },
  {
   "cell_type": "code",
   "execution_count": 20,
   "id": "a35bb7c7",
   "metadata": {},
   "outputs": [
    {
     "name": "stdout",
     "output_type": "stream",
     "text": [
      "type(x)= <class 'bytes'>\n",
      "s= Greek letter  α\n"
     ]
    }
   ],
   "source": [
    "x=b\"Greek letter  \\xce\\xb1\"\n",
    "print(\"type(x)=\",type(x)) # check the type\n",
    "s=x.decode('UTF-8') # decode/convert into a string\n",
    "print(\"s=\",s)"
   ]
  },
  {
   "cell_type": "markdown",
   "id": "2c333a62",
   "metadata": {},
   "source": [
    "# Control statements"
   ]
  },
  {
   "cell_type": "markdown",
   "id": "8df784e3",
   "metadata": {},
   "source": [
    "- Control statements are \"if\", \"for\", and \"while\". \n",
    "- To obtain a sequence of numbers you can iterate over, use \"range(number)\"."
   ]
  },
  {
   "cell_type": "code",
   "execution_count": 3,
   "id": "b2c999d4",
   "metadata": {},
   "outputs": [
    {
     "name": "stdout",
     "output_type": "stream",
     "text": [
      "<class 'range'>\n",
      "2\n",
      "[0, 1, 2, 3, 4, 5, 6, 7, 8, 9]\n"
     ]
    }
   ],
   "source": [
    "x=range(10) # Create a sequence of numbers from 0 to 9\n",
    "print(type(x))\n",
    "print(x[2])\n",
    "rangelist=list(range(10))\n",
    "print(rangelist)"
   ]
  },
  {
   "cell_type": "markdown",
   "id": "fb2279a6",
   "metadata": {},
   "source": [
    "- Use \"for\" to enumerate through members of a list. "
   ]
  },
  {
   "cell_type": "code",
   "execution_count": 18,
   "id": "04bb081a",
   "metadata": {},
   "outputs": [
    {
     "name": "stdout",
     "output_type": "stream",
     "text": [
      "Number=0 is even\n",
      "Number=1 is odd\n",
      "Number=2 is even\n",
      "Number=3 is odd\n",
      "Number=4 is even\n",
      "Number=5 is odd\n",
      "Number=6 is even\n",
      "Number=7 is odd\n",
      "Number=8 is even\n",
      "Number=9 is odd\n",
      "End of the for loop\n"
     ]
    }
   ],
   "source": [
    "for number in range(10):\n",
    "    # Check if number is one of\n",
    "    # the numbers in the tuple.\n",
    "    if number in (1,3,5,7,9):\n",
    "        # \"Break\" terminates a for without\n",
    "        # executing the \"else\" clause.\n",
    "        print(\"Number=%s is odd\" % (number) )\n",
    "        #break\n",
    "    else:\n",
    "        # \"Continue\" starts the next iteration\n",
    "        # of the loop. It's rather useless here,\n",
    "        # as it's the last statement of the loop.\n",
    "        print(\"Number=%s is even\" % (number) )\n",
    "        continue\n",
    "else:\n",
    "    # The \"else\" clause is optional and is\n",
    "    # executed only if the loop didn't \"break\".\n",
    "    print(\"End of the for loop\")\n",
    "    pass # Do nothing"
   ]
  },
  {
   "cell_type": "markdown",
   "id": "e1996d43",
   "metadata": {},
   "source": [
    "- Here is an example of the if statement."
   ]
  },
  {
   "cell_type": "code",
   "execution_count": 25,
   "id": "15b65c90",
   "metadata": {},
   "outputs": [
    {
     "name": "stdout",
     "output_type": "stream",
     "text": [
      "The index of a list starts from 0\n",
      "rangelist[1] equals 1\n"
     ]
    }
   ],
   "source": [
    "\n",
    "rangelist=range(10)\n",
    "if rangelist[1]==2:\n",
    "    print(\"The second item is 2\")\n",
    "elif rangelist[1]==3:\n",
    "    print(\"The second item is 3\")\n",
    "else:\n",
    "    print(\"The index of a list starts from 0\")\n",
    "    print(\"rangelist[1] equals %s\" % (rangelist[1]))\n",
    "\n",
    "\n",
    "#while rangelist[1]==1:\n",
    "#    print(\"We are trapped in an infinite loop!\")"
   ]
  },
  {
   "cell_type": "markdown",
   "id": "3dcf53a4",
   "metadata": {},
   "source": [
    "- Conditions can be chained: 1 < a < 3 checks that a is both less than 3 and greater than 1."
   ]
  },
  {
   "cell_type": "code",
   "execution_count": 26,
   "id": "2cb86a18",
   "metadata": {},
   "outputs": [
    {
     "name": "stdout",
     "output_type": "stream",
     "text": [
      "Condition is satisfied.\n"
     ]
    }
   ],
   "source": [
    "a=2\n",
    "if 1<a<3:\n",
    "    print('Condition is satisfied.')"
   ]
  },
  {
   "cell_type": "markdown",
   "id": "de072513",
   "metadata": {},
   "source": [
    "- We present now a way to create and manipulate lists. \n",
    "- It consists of an expression followed by a \"for\" statement (possibly followed by \"if\" or \"for\" statements)."
   ]
  },
  {
   "cell_type": "code",
   "execution_count": 30,
   "id": "11c958b5",
   "metadata": {},
   "outputs": [
    {
     "name": "stdout",
     "output_type": "stream",
     "text": [
      "[3, 4, 5, 6, 8, 10, 9, 12, 15]\n",
      "[2, 3]\n",
      "True\n",
      "2\n"
     ]
    }
   ],
   "source": [
    "lst1=[1,2,3]\n",
    "lst2=[3,4,5]\n",
    "print([x*y for x in lst1 for y in lst2])\n",
    "print([x for x in lst1 if 4>x>1])\n",
    "\n",
    "# Check if a condition is true for any item\n",
    "print(any([i%3 for i in [3, 3, 4, 4, 3]])) # 4%3=1, and 1 is true\n",
    "\n",
    "# Check for how many items a condition is true\n",
    "print(sum(1 for i in [3, 3, 4, 4, 3] if i == 4))"
   ]
  },
  {
   "cell_type": "markdown",
   "id": "ab2a6f93",
   "metadata": {},
   "source": [
    "# Functions"
   ]
  },
  {
   "cell_type": "markdown",
   "id": "ee202df4",
   "metadata": {},
   "source": [
    "- Functions are declared with the \"def\" keyword. \n",
    "- Optional arguments are set in the function declaration, after the mandatory arguments, by being assigned a default value.  \n",
    "- Functions can return a tuple (and using tuple unpacking you can effectively return multiple values)."
   ]
  },
  {
   "cell_type": "code",
   "execution_count": 36,
   "id": "1891fae6",
   "metadata": {},
   "outputs": [
    {
     "name": "stdout",
     "output_type": "stream",
     "text": [
      "([1, 2, 3, 'A new item'], 14, 'A default string')\n"
     ]
    }
   ],
   "source": [
    "# an_int and a_string are optional, they have default values\n",
    "# if one is not passed (2 and \"A default string\", respectively).\n",
    "def passing_example(a_list, an_int=2, a_string=\"A default string\"):\n",
    "    a_list.append(\"A new item\")\n",
    "    an_int += 4\n",
    "    return a_list, an_int, a_string\n",
    "my_list=[1,2,3]\n",
    "my_int=10\n",
    "print(passing_example(my_list, my_int))\n",
    "# Immutable types (tuples, ints, strings, etc) cannot be changed by the callee\n",
    "# The following causes an error\n",
    "# print(passing_example(my_int, my_list))"
   ]
  },
  {
   "cell_type": "markdown",
   "id": "7f291f7d",
   "metadata": {},
   "source": [
    "- Global variables are declared outside of functions and can be read without any special declarations. \n",
    "- If you want to write to them you must declare them at the beginning of the function with the global keyword."
   ]
  },
  {
   "cell_type": "code",
   "execution_count": 39,
   "id": "804b4135",
   "metadata": {},
   "outputs": [
    {
     "name": "stdout",
     "output_type": "stream",
     "text": [
      "5\n",
      "-3\n"
     ]
    }
   ],
   "source": [
    "number=5\n",
    "\n",
    "def printGlobal():\n",
    "    # This will print 5.\n",
    "    print(number)\n",
    "printGlobal()\n",
    "\n",
    "def changeGlobal():\n",
    "    global number\n",
    "    # This will correctly change the global.\n",
    "    number=-3\n",
    "changeGlobal()\n",
    "print(number)\n",
    "\n",
    "# The following function causes an error\n",
    "def illegalFunc():\n",
    "    # This function causes an error because Python creates a new, local\n",
    "    # object instead of accessing the global one.\n",
    "    print(number)\n",
    "    number = 3\n",
    "# illegalFunc()"
   ]
  },
  {
   "cell_type": "markdown",
   "id": "caaec3a1",
   "metadata": {},
   "source": [
    "- Lambda functions are comprised of a single statement."
   ]
  },
  {
   "cell_type": "code",
   "execution_count": 40,
   "id": "acb62a93",
   "metadata": {},
   "outputs": [
    {
     "name": "stdout",
     "output_type": "stream",
     "text": [
      "21\n"
     ]
    }
   ],
   "source": [
    "# Same as def funcvar(x): return x + 20\n",
    "funcvar=lambda x: x + 20\n",
    "print(funcvar(1))"
   ]
  },
  {
   "cell_type": "markdown",
   "id": "97eb3468",
   "metadata": {},
   "source": [
    "# Exceptions"
   ]
  },
  {
   "cell_type": "markdown",
   "id": "068af70a",
   "metadata": {},
   "source": [
    "- Exceptions in Python are handled with try-except [exceptionname] blocks:"
   ]
  },
  {
   "cell_type": "code",
   "execution_count": 49,
   "id": "0b2ee4ba",
   "metadata": {},
   "outputs": [
    {
     "name": "stdout",
     "output_type": "stream",
     "text": [
      "Division by 0 is forbidden.\n",
      "End of the exception block.\n",
      "End of the exception block.\n"
     ]
    },
    {
     "data": {
      "text/plain": [
       "0.5"
      ]
     },
     "execution_count": 49,
     "metadata": {},
     "output_type": "execute_result"
    }
   ],
   "source": [
    "def some_function(n):\n",
    "    try:\n",
    "        # Division by zero raises an exception\n",
    "        1 / n\n",
    "    except ZeroDivisionError:\n",
    "        print(\"Division by 0 is forbidden.\")\n",
    "    else:\n",
    "        # Exception didn't occur, we're good.\n",
    "        return 1/n\n",
    "    finally:\n",
    "        # This is executed after the code block is run\n",
    "        # and all exceptions have been handled.\n",
    "        print(\"End of the exception block.\")\n",
    "\n",
    "some_function(0)\n",
    "some_function(2)"
   ]
  },
  {
   "cell_type": "markdown",
   "id": "9d249e1c",
   "metadata": {},
   "source": [
    "# Importing packages"
   ]
  },
  {
   "cell_type": "markdown",
   "id": "1b814439",
   "metadata": {},
   "source": [
    "- External packages (libraries) are used with the import [libname] keyword. \n",
    "- You can also use from [libname] import [funcname] for individual functions."
   ]
  },
  {
   "cell_type": "code",
   "execution_count": 52,
   "id": "d6038776",
   "metadata": {},
   "outputs": [
    {
     "name": "stdout",
     "output_type": "stream",
     "text": [
      "76\n"
     ]
    },
    {
     "data": {
      "text/plain": [
       "0.15425144988758405"
      ]
     },
     "execution_count": 52,
     "metadata": {},
     "output_type": "execute_result"
    }
   ],
   "source": [
    "import random\n",
    "randomint = random.randint(1, 100)\n",
    "print(randomint)\n",
    "\n",
    "from math import cos\n",
    "cos(30)"
   ]
  },
  {
   "cell_type": "markdown",
   "id": "b86116e5",
   "metadata": {},
   "source": [
    "# File write and read"
   ]
  },
  {
   "cell_type": "markdown",
   "id": "a8c30860",
   "metadata": {},
   "source": [
    "- Example of file write and read:"
   ]
  },
  {
   "cell_type": "code",
   "execution_count": 1,
   "id": "0eee4e9b",
   "metadata": {},
   "outputs": [
    {
     "name": "stdout",
     "output_type": "stream",
     "text": [
      "This is a sample string\n"
     ]
    },
    {
     "name": "stderr",
     "output_type": "stream",
     "text": [
      "Un sous-r�pertoire ou un fichier 00PythonTutorial existe d�j�.\n"
     ]
    }
   ],
   "source": [
    "!mkdir \"00PythonTutorial\"\n",
    "\"\"\" Write in file. The letter r before the filename string \n",
    "is used to prevent backslash to escape characters \"\"\"\n",
    "myfile=open(r\"C:\\Mkk\\Bag\\DataScience\\PythonSoftwares\\00PythonTutorial\\text.txt\", \"w\")\n",
    "myfile.write(\"This is a sample string\")\n",
    "myfile.close()\n",
    "\n",
    "# Read from file\n",
    "myfile=open(r\"C:\\Mkk\\Bag\\DataScience\\PythonSoftwares\\00PythonTutorial\\text.txt\")\n",
    "print(myfile.read())\n",
    "myfile.close()\n"
   ]
  },
  {
   "cell_type": "markdown",
   "id": "292eed56",
   "metadata": {},
   "source": [
    "- Python has a wide array of libraries built in.\n",
    "- The pickle library implements binary protocols for serializing (converting data structures to strings) and de-serializing a Python object structure.\n",
    "- As an example, here is how serializing with file I/O is used."
   ]
  },
  {
   "cell_type": "code",
   "execution_count": 56,
   "id": "5bb06bd5",
   "metadata": {},
   "outputs": [
    {
     "name": "stdout",
     "output_type": "stream",
     "text": [
      "['This', 'is', 4, 13327]\n"
     ]
    }
   ],
   "source": [
    "import pickle\n",
    "mylist = [\"This\", \"is\", 4, 13327]\n",
    "# Write in file\n",
    "myfile=open(r\"C:\\Mkk\\Bag\\DataScience\\PythonSoftwares\\00PythonTutorial\\binary.dat\", \"wb\")\n",
    "pickle.dump(mylist, myfile)\n",
    "myfile.close()\n",
    "\n",
    "# Read from file\n",
    "myfile=open(r\"C:\\Mkk\\Bag\\DataScience\\PythonSoftwares\\00PythonTutorial\\binary.dat\", \"rb\")\n",
    "loadedlist=pickle.load(myfile)\n",
    "myfile.close()\n",
    "print(loadedlist)\n"
   ]
  },
  {
   "cell_type": "markdown",
   "id": "8cbe4c63",
   "metadata": {},
   "source": [
    "# Classes"
   ]
  },
  {
   "cell_type": "markdown",
   "id": "434e6dae",
   "metadata": {},
   "source": [
    "- Python is object-oriented; i.e. relies on classes. \n",
    "- Each class has attributes (i.e. variables) and methods (i.e. functions)."
   ]
  },
  {
   "cell_type": "code",
   "execution_count": 56,
   "id": "aa365b2a",
   "metadata": {},
   "outputs": [
    {
     "name": "stdout",
     "output_type": "stream",
     "text": [
      "3\n",
      "10\n",
      "-7\n",
      "0\n"
     ]
    }
   ],
   "source": [
    "# Define class A\n",
    "class A(object):\n",
    "    # The __init__() method is called immediately after \n",
    "    # an instance of the class is created\n",
    "    def __init__(self):\n",
    "        self.att = 3 # self represents the instance of the class\n",
    "    def met(self,arg1,arg2): # call met with 2 arguments (arg1,arg2)\n",
    "        return self.att+arg1+arg2\n",
    "# Create an instance of the class A\n",
    "x=A()\n",
    "\n",
    "print(x.att)\n",
    "print(x.met(5,2))\n",
    "x.att=-7\n",
    "print(x.att)\n",
    "print(x.met(5,2))"
   ]
  },
  {
   "cell_type": "markdown",
   "id": "9ffb036a",
   "metadata": {},
   "source": [
    "- A common attribute is shared by all instances."
   ]
  },
  {
   "cell_type": "code",
   "execution_count": 57,
   "id": "a8f17a2c",
   "metadata": {},
   "outputs": [
    {
     "name": "stdout",
     "output_type": "stream",
     "text": [
      "0\n",
      "1\n",
      "-1\n",
      "1\n",
      "-1\n",
      "10\n"
     ]
    }
   ],
   "source": [
    "class A(object):\n",
    "    com=0 # common attribute\n",
    "x=A()\n",
    "print(x.com)\n",
    "\n",
    "# You can modifie the common attribute for all the instances of the class\n",
    "A.com=1\n",
    "print(x.com)\n",
    "\n",
    "# You can modifie the common attribute for a particular instance\n",
    "x.com=-1\n",
    "print(x.com)\n",
    "y=A()\n",
    "print(y.com)\n",
    "\n",
    "# You can modifie the common attribute for all the instances of the class\n",
    "# (except those for which you already specified the common atribute)\n",
    "A.com=10\n",
    "print(x.com)\n",
    "print(y.com)"
   ]
  },
  {
   "cell_type": "markdown",
   "id": "0a93fb2b",
   "metadata": {},
   "source": [
    "- A class may inherit from one or more 'parent' classes (multiple inheritance)."
   ]
  },
  {
   "cell_type": "code",
   "execution_count": 58,
   "id": "00068b54",
   "metadata": {},
   "outputs": [
    {
     "name": "stdout",
     "output_type": "stream",
     "text": [
      "a\n",
      "b\n",
      "c\n"
     ]
    }
   ],
   "source": [
    "# Class\n",
    "class A:\n",
    "    def a(self):\n",
    "        print('a')\n",
    "class B:\n",
    "    def b(self):\n",
    "        print('b')\n",
    "# Class C inherits from Classes A and B\n",
    "# their methods (and attributes) \n",
    "class C(A,B):\n",
    "    def c(self):\n",
    "        print('c')\n",
    "# Create object\n",
    "x=C()\n",
    "x.a()\n",
    "x.b()\n",
    "x.c()"
   ]
  }
 ],
 "metadata": {
  "kernelspec": {
   "display_name": "Python 3",
   "language": "python",
   "name": "python3"
  },
  "language_info": {
   "codemirror_mode": {
    "name": "ipython",
    "version": 3
   },
   "file_extension": ".py",
   "mimetype": "text/x-python",
   "name": "python",
   "nbconvert_exporter": "python",
   "pygments_lexer": "ipython3",
   "version": "3.11.4"
  }
 },
 "nbformat": 4,
 "nbformat_minor": 5
}
