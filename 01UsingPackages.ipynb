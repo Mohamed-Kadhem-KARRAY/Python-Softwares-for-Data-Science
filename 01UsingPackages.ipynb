{
 "cells": [
  {
   "cell_type": "markdown",
   "id": "a5ed2b06",
   "metadata": {},
   "source": [
    "# Importing and using packages\n",
    "### Author : Mohamed Kadhem KARRAY \n",
    "\n",
    "- Website: https://mohamedkadhem.com\n",
    "- Youtube: https://www.youtube.com/@mohamedkadhemkarray2504\n",
    "- LinkedIn: https://www.linkedin.com/in/mohamed-kadhem-karray-b21895b\n",
    "\n",
    "Date: 2023 september 15th\n",
    "\n",
    "### Content\n",
    "- We show how to import and use basic packages: math, numpy, and pandas."
   ]
  },
  {
   "cell_type": "markdown",
   "id": "babd2fc5",
   "metadata": {},
   "source": [
    "## Using packages: an example"
   ]
  },
  {
   "cell_type": "code",
   "execution_count": 3,
   "id": "815e6783",
   "metadata": {},
   "outputs": [
    {
     "name": "stdout",
     "output_type": "stream",
     "text": [
      "m.sqrt(4)= 2.0\n",
      "D= [[1 4]\n",
      " [0 2]\n",
      " [7 5]]\n",
      "F=    X  Y\n",
      "0  1  4\n",
      "1  0  2\n",
      "2  7  5\n"
     ]
    }
   ],
   "source": [
    "import math as m\n",
    "print(\"m.sqrt(4)=\",m.sqrt(4))\n",
    "import numpy as np\n",
    "D=np.array([[1,4],[0,2],[7,5]]) # create 3x2 matrix\n",
    "print(\"D=\",D) # display D\n",
    "import pandas as pd\n",
    "F=pd.DataFrame(data=D,columns=['X','Y'])\n",
    "print(\"F=\",F) # display the DataFrame"
   ]
  }
 ],
 "metadata": {
  "kernelspec": {
   "display_name": "Python 3 (ipykernel)",
   "language": "python",
   "name": "python3"
  },
  "language_info": {
   "codemirror_mode": {
    "name": "ipython",
    "version": 3
   },
   "file_extension": ".py",
   "mimetype": "text/x-python",
   "name": "python",
   "nbconvert_exporter": "python",
   "pygments_lexer": "ipython3",
   "version": "3.10.8"
  }
 },
 "nbformat": 4,
 "nbformat_minor": 5
}
