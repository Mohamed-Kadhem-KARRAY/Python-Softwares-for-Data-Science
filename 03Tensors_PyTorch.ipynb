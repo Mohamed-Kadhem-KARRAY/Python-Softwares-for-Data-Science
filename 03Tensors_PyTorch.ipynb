{
 "cells": [
  {
   "cell_type": "markdown",
   "id": "ad166fee",
   "metadata": {},
   "source": [
    "# Tensor object in PyTorch package\n",
    "### Author : Mohamed Kadhem KARRAY \n",
    "\n",
    "- Website: https://mohamedkadhem.com\n",
    "- Youtube: https://www.youtube.com/@mohamedkadhemkarray2504\n",
    "- LinkedIn: https://www.linkedin.com/in/mohamed-kadhem-karray-b21895b\n",
    "\n",
    "Date: 2023 september 19th\n",
    "\n",
    "### Content\n",
    "- The PyTorch package proposes a type of object, called Tensor, which is a multidimensional matrix.\n",
    "- This notebook, based on  [1], presents the basic operations one may make with Tensors. \n",
    "\n",
    "References\n",
    "\n",
    "[1] M. Lelarge et al., https://dataflowr.github.io/website"
   ]
  },
  {
   "cell_type": "markdown",
   "id": "5747b590",
   "metadata": {},
   "source": [
    "## Install packages"
   ]
  },
  {
   "cell_type": "markdown",
   "id": "7c2524f9",
   "metadata": {},
   "source": [
    "- The following code permits to install the package with \"pip\" command.\n",
    "  - If the package is already installed on your machine, then you may pass this step.\n",
    "  - Otherwise, exceute the following code (desactivate the proxy, if necessary)."
   ]
  },
  {
   "cell_type": "code",
   "execution_count": 1,
   "id": "ec1b0c70",
   "metadata": {},
   "outputs": [
    {
     "name": "stdout",
     "output_type": "stream",
     "text": [
      "Requirement already satisfied: torch in c:\\applications\\python\\python311\\lib\\site-packages (2.0.1)\n",
      "Requirement already satisfied: filelock in c:\\applications\\python\\python311\\lib\\site-packages (from torch) (3.12.3)\n",
      "Requirement already satisfied: typing-extensions in c:\\applications\\python\\python311\\lib\\site-packages (from torch) (4.7.1)\n",
      "Requirement already satisfied: sympy in c:\\applications\\python\\python311\\lib\\site-packages (from torch) (1.12)\n",
      "Requirement already satisfied: networkx in c:\\applications\\python\\python311\\lib\\site-packages (from torch) (3.1)\n",
      "Requirement already satisfied: jinja2 in c:\\applications\\python\\python311\\lib\\site-packages (from torch) (3.1.2)\n",
      "Requirement already satisfied: MarkupSafe>=2.0 in c:\\applications\\python\\python311\\lib\\site-packages (from jinja2->torch) (2.1.3)\n",
      "Requirement already satisfied: mpmath>=0.19 in c:\\applications\\python\\python311\\lib\\site-packages (from sympy->torch) (1.3.0)\n"
     ]
    }
   ],
   "source": [
    "# Installing package using \"pip\" command.\n",
    "# Since we run a DOS command, we begin it with \"!\".\n",
    "!pip install torch"
   ]
  },
  {
   "cell_type": "markdown",
   "id": "85499498",
   "metadata": {},
   "source": [
    "## Import packages"
   ]
  },
  {
   "cell_type": "code",
   "execution_count": 2,
   "id": "57e1c888",
   "metadata": {},
   "outputs": [],
   "source": [
    "import torch\n",
    "import numpy as np"
   ]
  },
  {
   "cell_type": "markdown",
   "id": "e01448c9",
   "metadata": {},
   "source": [
    "## A tensor is multidimensional matrix"
   ]
  },
  {
   "cell_type": "code",
   "execution_count": 4,
   "id": "4d826403",
   "metadata": {},
   "outputs": [
    {
     "name": "stdout",
     "output_type": "stream",
     "text": [
      "y= [[[1. 1. 1.]\n",
      "  [1. 1. 1.]\n",
      "  [1. 1. 1.]\n",
      "  [1. 1. 1.]]\n",
      "\n",
      " [[1. 1. 1.]\n",
      "  [1. 1. 1.]\n",
      "  [1. 1. 1.]\n",
      "  [1. 1. 1.]]]\n",
      "z= tensor([[[1., 1., 1.],\n",
      "         [1., 1., 1.],\n",
      "         [1., 1., 1.],\n",
      "         [1., 1., 1.]],\n",
      "\n",
      "        [[1., 1., 1.],\n",
      "         [1., 1., 1.],\n",
      "         [1., 1., 1.],\n",
      "         [1., 1., 1.]]])\n"
     ]
    }
   ],
   "source": [
    "x=torch.ones(2,4,3) # matrix of dimension 2×4×3\n",
    "y=x.numpy() # convert from torch to numpy\n",
    "z=torch.from_numpy(y) # convert from numpy to torch\n",
    "print(\"y=\",y)\n",
    "print(\"z=\",z)"
   ]
  },
  {
   "cell_type": "markdown",
   "id": "3c6a241b",
   "metadata": {},
   "source": [
    "## Types and precision"
   ]
  },
  {
   "cell_type": "code",
   "execution_count": 7,
   "id": "cf7e2936",
   "metadata": {},
   "outputs": [
    {
     "name": "stdout",
     "output_type": "stream",
     "text": [
      "a= tensor([1., 1., 1., 1.], dtype=torch.float64)\n",
      "b= tensor([1., 1., 1., 1.])\n",
      "Test (x+a)==(x+b): tensor([ True, False,  True, False])\n"
     ]
    }
   ],
   "source": [
    "x=torch.randn(4)\n",
    "a=torch.from_numpy(np.ones(4))\n",
    "print(\"a=\",a) # tensor([1., 1., 1., 1.], dtype=torch.float64)\n",
    "b=a.float()\n",
    "print(\"b=\",b) # tensor([1., 1., 1., 1.])\n",
    "print(\"Test (x+a)==(x+b):\",(x+a)==(x+b)) # Result: tensor([False, False, False,  True])"
   ]
  },
  {
   "cell_type": "markdown",
   "id": "165e3403",
   "metadata": {},
   "source": [
    "## Broadcasting"
   ]
  },
  {
   "cell_type": "markdown",
   "id": "684f18f3",
   "metadata": {},
   "source": [
    " - When adding two tensors, their sizes are expanded to be of equal sizes (by replicating coefficients).\n",
    "   - More details on https://pytorch.org/docs/stable/notes/broadcasting.html.\n"
   ]
  },
  {
   "cell_type": "code",
   "execution_count": 8,
   "id": "7d969a1c",
   "metadata": {},
   "outputs": [
    {
     "name": "stdout",
     "output_type": "stream",
     "text": [
      "tensor([[ 1.],\n",
      "        [10.]])\n",
      "tensor([[0, 1]])\n",
      "tensor([[ 1.,  2.],\n",
      "        [10., 11.]])\n"
     ]
    }
   ],
   "source": [
    "x=torch.tensor([[1.], [10.]]) # column vector 2×1\n",
    "print(x)\n",
    "y=torch.tensor([[0, 1]]) # row vector 1×2\n",
    "print(y)\n",
    "print((x+y)) # matrix 2×2"
   ]
  },
  {
   "cell_type": "markdown",
   "id": "be962f79",
   "metadata": {},
   "source": [
    "## In-place modification"
   ]
  },
  {
   "cell_type": "code",
   "execution_count": 9,
   "id": "b4e20c13",
   "metadata": {},
   "outputs": [
    {
     "name": "stdout",
     "output_type": "stream",
     "text": [
      "x= tensor([1])\n",
      "x= tensor([0])\n"
     ]
    }
   ],
   "source": [
    "x=torch.tensor([1])\n",
    "y=x.add(-1)\n",
    "print(\"x=\",x) # Result: tensor([1])\n",
    "y=x.add_(-1) # The sign '_' modifies x in-place\n",
    "print(\"x=\",x) # Result: tensor([0])"
   ]
  },
  {
   "cell_type": "markdown",
   "id": "709f36ce",
   "metadata": {},
   "source": [
    "## Shared memory"
   ]
  },
  {
   "cell_type": "markdown",
   "id": "59779d9e",
   "metadata": {},
   "source": [
    "- The torch tensor and the associated numpy array share the same memory."
   ]
  },
  {
   "cell_type": "code",
   "execution_count": 12,
   "id": "22a82624",
   "metadata": {},
   "outputs": [
    {
     "name": "stdout",
     "output_type": "stream",
     "text": [
      "b= tensor([0., 1.], dtype=torch.float64)\n",
      "a= [0. 2.]\n"
     ]
    }
   ],
   "source": [
    "a=np.ones(2)\n",
    "b=torch.from_numpy(a)\n",
    "a[0]=0\n",
    "print(\"b=\",b) # Result: tensor([0., 1.]\n",
    "b[1]=2\n",
    "print(\"a=\",a) # Result: [0. 2.]"
   ]
  },
  {
   "cell_type": "markdown",
   "id": "388c6714",
   "metadata": {},
   "source": [
    "## torch.unsqueeze"
   ]
  },
  {
   "cell_type": "markdown",
   "id": "590202b2",
   "metadata": {},
   "source": [
    "- torch.unsqueeze(input, position): generates a new tensor as output by adding a new dimension of size one at the desired position."
   ]
  },
  {
   "cell_type": "code",
   "execution_count": 15,
   "id": "f3b2fe5d",
   "metadata": {},
   "outputs": [
    {
     "name": "stdout",
     "output_type": "stream",
     "text": [
      "Shape of x: torch.Size([4])\n",
      "x0=torch.unsqueeze(x,0)= tensor([[10,  2,  5, 37]])\n",
      "Shape of x0: torch.Size([1, 4])\n",
      "x1=torch.unsqueeze(x,1)= tensor([[10],\n",
      "        [ 2],\n",
      "        [ 5],\n",
      "        [37]])\n",
      "Shape of x1: torch.Size([4, 1])\n"
     ]
    }
   ],
   "source": [
    "x=torch.tensor([10, 2, 5, 37])\n",
    "print(\"Shape of x:\", x.shape)\n",
    "x0=torch.unsqueeze(x,0) \n",
    "print(\"x0=torch.unsqueeze(x,0)=\",x0)\n",
    "print(\"Shape of x0:\", x0.shape)\n",
    "x1=torch.unsqueeze(x,1)\n",
    "print(\"x1=torch.unsqueeze(x,1)=\",x1)\n",
    "print(\"Shape of x1:\",x1.shape)"
   ]
  }
 ],
 "metadata": {
  "kernelspec": {
   "display_name": "Python 3",
   "language": "python",
   "name": "python3"
  },
  "language_info": {
   "codemirror_mode": {
    "name": "ipython",
    "version": 3
   },
   "file_extension": ".py",
   "mimetype": "text/x-python",
   "name": "python",
   "nbconvert_exporter": "python",
   "pygments_lexer": "ipython3",
   "version": "3.11.4"
  }
 },
 "nbformat": 4,
 "nbformat_minor": 5
}
