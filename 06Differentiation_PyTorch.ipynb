{
 "cells": [
  {
   "cell_type": "markdown",
   "id": "ad166fee",
   "metadata": {},
   "source": [
    "# Differentiation using PyTorch\n",
    "### Author : Mohamed Kadhem KARRAY \n",
    "\n",
    "- Website: https://mohamedkadhem.com\n",
    "- Youtube: https://www.youtube.com/@mohamedkadhemkarray2504\n",
    "- LinkedIn: https://www.linkedin.com/in/mohamed-kadhem-karray-b21895b\n",
    "\n",
    "Date: 2023 September 19th\n",
    "\n",
    "### Content\n",
    "- In this example, from [1], we shall compute the partial derivative (∂f)/(∂w) of the function f=exp(wx), using PyTorch package.\n",
    "\n",
    "References\n",
    "\n",
    "[1] M. Lelarge et al., https://dataflowr.github.io/website"
   ]
  },
  {
   "cell_type": "markdown",
   "id": "c0b7220b",
   "metadata": {},
   "source": [
    "## Install packages"
   ]
  },
  {
   "cell_type": "code",
   "execution_count": 1,
   "id": "83b2d123",
   "metadata": {},
   "outputs": [
    {
     "name": "stdout",
     "output_type": "stream",
     "text": [
      "Requirement already satisfied: torch in c:\\applications\\python\\python311\\lib\\site-packages (2.0.1)\n",
      "Requirement already satisfied: filelock in c:\\applications\\python\\python311\\lib\\site-packages (from torch) (3.12.3)\n",
      "Requirement already satisfied: typing-extensions in c:\\applications\\python\\python311\\lib\\site-packages (from torch) (4.7.1)\n",
      "Requirement already satisfied: sympy in c:\\applications\\python\\python311\\lib\\site-packages (from torch) (1.12)\n",
      "Requirement already satisfied: networkx in c:\\applications\\python\\python311\\lib\\site-packages (from torch) (3.1)\n",
      "Requirement already satisfied: jinja2 in c:\\applications\\python\\python311\\lib\\site-packages (from torch) (3.1.2)\n",
      "Requirement already satisfied: MarkupSafe>=2.0 in c:\\applications\\python\\python311\\lib\\site-packages (from jinja2->torch) (2.1.3)\n",
      "Requirement already satisfied: mpmath>=0.19 in c:\\applications\\python\\python311\\lib\\site-packages (from sympy->torch) (1.3.0)\n"
     ]
    }
   ],
   "source": [
    "# Installing package using \"pip\" command.\n",
    "!pip install torch"
   ]
  },
  {
   "cell_type": "markdown",
   "id": "b0c6583c",
   "metadata": {},
   "source": [
    "## Import packages"
   ]
  },
  {
   "cell_type": "code",
   "execution_count": 2,
   "id": "57e1c888",
   "metadata": {},
   "outputs": [],
   "source": [
    "# Source: M. Lelarge et al., https://dataflowr.github.io/website\n",
    "import torch\n",
    "import numpy as np"
   ]
  },
  {
   "cell_type": "markdown",
   "id": "e01448c9",
   "metadata": {},
   "source": [
    "## Make differentiation"
   ]
  },
  {
   "cell_type": "code",
   "execution_count": 4,
   "id": "4d826403",
   "metadata": {},
   "outputs": [
    {
     "name": "stdout",
     "output_type": "stream",
     "text": [
      "w.grad: tensor([0.1051], dtype=torch.float64)\n",
      "x1*torch.exp(w*x1): tensor([0.1051], dtype=torch.float64, grad_fn=<MulBackward0>)\n"
     ]
    }
   ],
   "source": [
    "w=torch.from_numpy(np.array([0.5])) # w=0.5 as a tensor\n",
    "w.requires_grad_(True) # make it possible to differentiate with respect to w\n",
    "def fun(x):\n",
    "    return torch.exp(w*x)\n",
    "x1=torch.from_numpy(np.array([0.1]))\n",
    "f=fun(x1)\n",
    "f.backward() # Make differentiation\n",
    "print(\"w.grad:\",w.grad)\n",
    "print(\"x1*torch.exp(w*x1):\",x1*torch.exp(w*x1)) # Check the result"
   ]
  },
  {
   "cell_type": "markdown",
   "id": "165e3403",
   "metadata": {},
   "source": [
    "## Accumulation of gradients for tensor.backward()"
   ]
  },
  {
   "cell_type": "code",
   "execution_count": 5,
   "id": "7d969a1c",
   "metadata": {},
   "outputs": [
    {
     "name": "stdout",
     "output_type": "stream",
     "text": [
      "w.grad: tensor([0.2103], dtype=torch.float64)\n"
     ]
    }
   ],
   "source": [
    "f=fun(x1)\n",
    "f.backward() # Make differentiation a second time\n",
    "print(\"w.grad:\",w.grad)\n",
    "# f.backward() # Gives an error because backward deletes the computational graph"
   ]
  },
  {
   "cell_type": "markdown",
   "id": "709f36ce",
   "metadata": {},
   "source": [
    "## Retain computational graph"
   ]
  },
  {
   "cell_type": "code",
   "execution_count": 10,
   "id": "22a82624",
   "metadata": {},
   "outputs": [
    {
     "name": "stdout",
     "output_type": "stream",
     "text": [
      "w.grad: tensor([0.1051], dtype=torch.float64)\n",
      "w.grad: tensor([0.2103], dtype=torch.float64)\n"
     ]
    }
   ],
   "source": [
    "w.grad.data.zero_() # Clear the gradients \n",
    "f=fun(x1)\n",
    "f.backward(retain_graph=True)\n",
    "print(\"w.grad:\",w.grad)\n",
    "f.backward() # retain_graph permits to differentiate a second time\n",
    "print(\"w.grad:\",w.grad)"
   ]
  }
 ],
 "metadata": {
  "kernelspec": {
   "display_name": "Python 3",
   "language": "python",
   "name": "python3"
  },
  "language_info": {
   "codemirror_mode": {
    "name": "ipython",
    "version": 3
   },
   "file_extension": ".py",
   "mimetype": "text/x-python",
   "name": "python",
   "nbconvert_exporter": "python",
   "pygments_lexer": "ipython3",
   "version": "3.11.4"
  }
 },
 "nbformat": 4,
 "nbformat_minor": 5
}
