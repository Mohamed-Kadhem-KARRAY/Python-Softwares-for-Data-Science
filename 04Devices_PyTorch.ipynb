{
  "cells": [
    {
      "cell_type": "markdown",
      "id": "7b4f7ec0",
      "metadata": {
        "id": "7b4f7ec0"
      },
      "source": [
        "# Devices (processors)\n",
        "### Author : Mohamed Kadhem KARRAY\n",
        "\n",
        "- Website: https://mohamedkadhem.com\n",
        "- Youtube: https://www.youtube.com/@mohamedkadhemkarray2504\n",
        "- LinkedIn: https://www.linkedin.com/in/mohamed-kadhem-karray-b21895b\n",
        "\n",
        "### Date: 2023 september 15th\n",
        "### Content\n",
        "- You may run your code on different devices (processors) [1]:\n",
        "  - CPU (central processing unit): typical PC's processor.\n",
        "  - GPU (graphics processing unit): typically on the cloud; e.g. processor of GoogleColab. GPU is faster than CPU.\n",
        "  - TPU (tensor processing unit): typically on the cloud; developed specifically for tensors.\n",
        "- To execute the present notebook on GoogleColab:\n",
        "  -  Navigate to \"Runtime/Change runtime type\".\n",
        "  -  Select GPU."
      ]
    },
    {
      "cell_type": "markdown",
      "id": "3p00uutiJhec",
      "metadata": {
        "id": "3p00uutiJhec"
      },
      "source": [
        "## Install packages"
      ]
    },
    {
      "cell_type": "code",
      "execution_count": 6,
      "id": "hprtVnA3Jk13",
      "metadata": {
        "colab": {
          "base_uri": "https://localhost:8080/"
        },
        "id": "hprtVnA3Jk13",
        "outputId": "d504a6c4-0d14-4dd3-84d8-e30daa3416fb"
      },
      "outputs": [
        {
          "name": "stdout",
          "output_type": "stream",
          "text": [
            "Requirement already satisfied: torch in /usr/local/lib/python3.10/dist-packages (2.0.1+cu118)\n",
            "Requirement already satisfied: filelock in /usr/local/lib/python3.10/dist-packages (from torch) (3.12.2)\n",
            "Requirement already satisfied: typing-extensions in /usr/local/lib/python3.10/dist-packages (from torch) (4.5.0)\n",
            "Requirement already satisfied: sympy in /usr/local/lib/python3.10/dist-packages (from torch) (1.12)\n",
            "Requirement already satisfied: networkx in /usr/local/lib/python3.10/dist-packages (from torch) (3.1)\n",
            "Requirement already satisfied: jinja2 in /usr/local/lib/python3.10/dist-packages (from torch) (3.1.2)\n",
            "Requirement already satisfied: triton==2.0.0 in /usr/local/lib/python3.10/dist-packages (from torch) (2.0.0)\n",
            "Requirement already satisfied: cmake in /usr/local/lib/python3.10/dist-packages (from triton==2.0.0->torch) (3.27.4.1)\n",
            "Requirement already satisfied: lit in /usr/local/lib/python3.10/dist-packages (from triton==2.0.0->torch) (16.0.6)\n",
            "Requirement already satisfied: MarkupSafe>=2.0 in /usr/local/lib/python3.10/dist-packages (from jinja2->torch) (2.1.3)\n",
            "Requirement already satisfied: mpmath>=0.19 in /usr/local/lib/python3.10/dist-packages (from sympy->torch) (1.3.0)\n"
          ]
        }
      ],
      "source": [
        "# Installing package using \"pip\" command.\n",
        "!pip install torch"
      ]
    },
    {
      "cell_type": "markdown",
      "id": "bf5614bb",
      "metadata": {
        "id": "bf5614bb"
      },
      "source": [
        "## Import packages"
      ]
    },
    {
      "cell_type": "code",
      "execution_count": null,
      "id": "57e1c888",
      "metadata": {
        "id": "57e1c888"
      },
      "outputs": [],
      "source": [
        "import torch\n",
        "import numpy as np"
      ]
    },
    {
      "cell_type": "markdown",
      "id": "e01448c9",
      "metadata": {
        "id": "e01448c9"
      },
      "source": [
        "## Check GPU: Is cuda available?"
      ]
    },
    {
      "cell_type": "code",
      "execution_count": 3,
      "id": "4d826403",
      "metadata": {
        "colab": {
          "base_uri": "https://localhost:8080/"
        },
        "id": "4d826403",
        "outputId": "c89e5e1e-d0d2-4394-8a45-47702927934c"
      },
      "outputs": [
        {
          "data": {
            "text/plain": [
              "True"
            ]
          },
          "execution_count": 3,
          "metadata": {},
          "output_type": "execute_result"
        }
      ],
      "source": [
        "# The following code should be run on GoogleColab:\n",
        "#   Navigate to Edit→Notebook Settings\n",
        "#   Select GPU from the Hardware Accelerator drop-down\n",
        "torch.cuda.is_available() # Result: True"
      ]
    },
    {
      "cell_type": "markdown",
      "id": "3c6a241b",
      "metadata": {
        "id": "3c6a241b"
      },
      "source": [
        "## Put tensor on GPU"
      ]
    },
    {
      "cell_type": "code",
      "execution_count": 5,
      "id": "cf7e2936",
      "metadata": {
        "colab": {
          "base_uri": "https://localhost:8080/"
        },
        "id": "cf7e2936",
        "outputId": "caf1ad6c-73f4-462c-9094-97e335c21be1"
      },
      "outputs": [
        {
          "name": "stdout",
          "output_type": "stream",
          "text": [
            "x.device= cpu\n",
            "y.device= cuda:0\n",
            "y.device= cpu\n",
            "z.device= cuda:0\n"
          ]
        }
      ],
      "source": [
        "x=torch.ones(1)\n",
        "print(\"x.device=\",x.device) # Result: cpu\n",
        "if torch.cuda.is_available():\n",
        "   y=x.to(\"cuda\")\n",
        "   print(\"y.device=\",y.device) # Result: cuda:0\n",
        "   y=y.to(\"cpu\")\n",
        "   print(\"y.device=\",y.device) # Result: cpu\n",
        "   z=torch.ones_like(x, device=\"cuda\") # create tensor on GPU\n",
        "   print(\"z.device=\",z.device) # Result: cuda:0\n",
        "u=z.cpu().numpy() # go to cpu to get numpy array"
      ]
    },
    {
      "cell_type": "markdown",
      "id": "dc685831",
      "metadata": {
        "id": "dc685831"
      },
      "source": [
        "## Sources\n",
        "[1] M. Lelarge et al., https://dataflowr.github.io/website"
      ]
    }
  ],
  "metadata": {
    "accelerator": "GPU",
    "colab": {
      "gpuType": "T4",
      "provenance": []
    },
    "kernelspec": {
      "display_name": "Python 3",
      "name": "python3"
    },
    "language_info": {
      "codemirror_mode": {
        "name": "ipython",
        "version": 3
      },
      "file_extension": ".py",
      "mimetype": "text/x-python",
      "name": "python",
      "nbconvert_exporter": "python",
      "pygments_lexer": "ipython3",
      "version": "3.11.4"
    }
  },
  "nbformat": 4,
  "nbformat_minor": 5
}
